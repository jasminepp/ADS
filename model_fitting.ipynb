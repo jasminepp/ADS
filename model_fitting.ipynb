{
 "cells": [
  {
   "cell_type": "code",
   "execution_count": 1,
   "metadata": {},
   "outputs": [],
   "source": [
    "from sklearn.ensemble import RandomForestClassifier\n",
    "from sklearn.model_selection import train_test_split\n",
    "from sklearn.metrics import accuracy_score\n",
    "import pandas as pd\n",
    "import numpy as np\n",
    "from pathlib import Path"
   ]
  },
  {
   "cell_type": "code",
   "execution_count": 2,
   "metadata": {},
   "outputs": [
    {
     "data": {
      "text/plain": [
       "[WindowsPath('train/00001'),\n",
       " WindowsPath('train/00002'),\n",
       " WindowsPath('train/00003'),\n",
       " WindowsPath('train/00004'),\n",
       " WindowsPath('train/00005'),\n",
       " WindowsPath('train/00006'),\n",
       " WindowsPath('train/00007'),\n",
       " WindowsPath('train/00008'),\n",
       " WindowsPath('train/00009'),\n",
       " WindowsPath('train/00010')]"
      ]
     },
     "execution_count": 2,
     "metadata": {},
     "output_type": "execute_result"
    }
   ],
   "source": [
    "folder_list = []\n",
    "train_dir = Path('train')\n",
    "\n",
    "for folder in train_dir.iterdir():\n",
    "    folder_list.append(folder)\n",
    "folder_list\n"
   ]
  },
  {
   "cell_type": "code",
   "execution_count": 5,
   "metadata": {},
   "outputs": [
    {
     "data": {
      "text/plain": [
       "[WindowsPath('train/00001/train_stage1.csv'),\n",
       " WindowsPath('train/00002/train_stage1.csv'),\n",
       " WindowsPath('train/00003/train_stage1.csv'),\n",
       " WindowsPath('train/00004/train_stage1.csv'),\n",
       " WindowsPath('train/00005/train_stage1.csv'),\n",
       " WindowsPath('train/00006/train_stage1.csv'),\n",
       " WindowsPath('train/00007/train_stage1.csv'),\n",
       " WindowsPath('train/00008/train_stage1.csv'),\n",
       " WindowsPath('train/00009/train_stage1.csv'),\n",
       " WindowsPath('train/00010/train_stage1.csv')]"
      ]
     },
     "execution_count": 5,
     "metadata": {},
     "output_type": "execute_result"
    }
   ],
   "source": [
    "training_dir = []\n",
    "\n",
    "for folder in folder_list:\n",
    "    if folder.is_dir():\n",
    "        training_dir.append(folder/'train_stage1.csv')\n",
    "training_dir"
   ]
  },
  {
   "cell_type": "markdown",
   "metadata": {},
   "source": [
    "Random Forest"
   ]
  },
  {
   "cell_type": "code",
   "execution_count": 28,
   "metadata": {},
   "outputs": [
    {
     "name": "stdout",
     "output_type": "stream",
     "text": [
      "Fit 1: Accuracy = 0.5455349248452697\n",
      "Fit 2: Accuracy = 0.5240746806419915\n",
      "Fit 3: Accuracy = 0.5962732919254659\n",
      "Fit 4: Accuracy = 0.5592686002522068\n",
      "Fit 5: Accuracy = 0.5103964513446078\n",
      "Accuracy mean: 0.5471095898019083\n"
     ]
    }
   ],
   "source": [
    "from sklearn.model_selection import KFold\n",
    "from sklearn.metrics import brier_score_loss\n",
    "\n",
    "def set_label(row):\n",
    "    probabilities = row[2:]\n",
    "    max_prob_index = probabilities.idxmax()\n",
    "    return max_prob_index\n",
    "\n",
    "train_dataframes = [pd.read_csv(f) for f in training_dir]\n",
    "\n",
    "kf = KFold(n_splits=5)\n",
    "\n",
    "scores = []\n",
    "\n",
    "counts = 0\n",
    "\n",
    "for train_indices, val_indices in kf.split(train_dataframes):\n",
    "    rf_model = RandomForestClassifier(n_estimators=100, random_state=42)\n",
    "\n",
    "    X_train = pd.concat([train_dataframes[i].drop(['location', 'label'], axis=1) for i in train_indices], ignore_index=True)\n",
    "    X_train['room'] = X_train['room'].replace({'living_room':1, 'hallway':2, 'kitchen':3})\n",
    "    y_train = pd.concat([train_dataframes[i]['label'] for i in train_indices], ignore_index=True)\n",
    "    \n",
    "    X_val = pd.concat([train_dataframes[i].drop(['location', 'label'], axis=1) for i in val_indices], ignore_index=True)\n",
    "    X_val['room'] = X_val['room'].replace({'living_room':1, 'hallway':2, 'kitchen':3})\n",
    "    y_val = pd.concat([train_dataframes[i]['label'] for i in val_indices], ignore_index=True)\n",
    "\n",
    "    rf_model.fit(X_train, y_train)\n",
    "\n",
    "    # for train_idx in traini_indices:\n",
    "    #     train_data = train_dataframes[train_idx]\n",
    "    #     X_train = train_data.drop(['location', 'label'], axis=1)\n",
    "    #     X_train['room'] = X_train['room'].replace({'living_room':1, 'hallway':2, 'kitchen':3})\n",
    "    #     y_train = train_data['label']\n",
    "    #     y_train = y_train.loc[y_train != 0]\n",
    "    #     rf_model.n_estimators += 100\n",
    "    #     rf_model.fit(X_train, y_train)\n",
    "\n",
    "    \n",
    "    # for val_idx in val_indices:\n",
    "    #     val_data = train_dataframes[val_idx]\n",
    "    #     X_val = val_data.drop(['location', 'label'], axis=1)\n",
    "    #     X_val['room'] = X_val['room'].replace({'living_room':1, 'hallway':2, 'kitchen':3})\n",
    "    #     y_val = val_data['label']\n",
    "    #     y_val = y_val.loc[y_val != 0]\n",
    "\n",
    "    #     y_pred = rf_model.predict(X_val)\n",
    "    \n",
    "    # val_df = pd.concat([train_dataframes[i] for i in val_indices], ignore_index=True)\n",
    "    # X_val = val_df.drop(['location', 'label'], axis=1)\n",
    "    # X_val['room'] = X_val['room'].replace({'living_room':1, 'hallway':2, 'kitchen':3})\n",
    "    # y_val = val_df['label']\n",
    "\n",
    "    y_preds = rf_model.predict(X_val)\n",
    "\n",
    "    acc = accuracy_score(y_val, y_preds)\n",
    "    scores.append(acc)\n",
    "\n",
    "    counts += 1\n",
    "    print(f'Fit {counts}: Accuracy = {acc}')\n",
    "\n",
    "\n",
    "print(f'Accuracy mean: {np.mean(scores)}')\n",
    "\n"
   ]
  }
 ],
 "metadata": {
  "kernelspec": {
   "display_name": "base",
   "language": "python",
   "name": "python3"
  },
  "language_info": {
   "codemirror_mode": {
    "name": "ipython",
    "version": 3
   },
   "file_extension": ".py",
   "mimetype": "text/x-python",
   "name": "python",
   "nbconvert_exporter": "python",
   "pygments_lexer": "ipython3",
   "version": "3.11.5"
  }
 },
 "nbformat": 4,
 "nbformat_minor": 2
}
