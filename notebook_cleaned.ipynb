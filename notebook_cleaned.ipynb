{
 "cells": [
  {
   "cell_type": "code",
   "execution_count": 2,
   "metadata": {},
   "outputs": [],
   "source": [
    "import pandas as pd\n",
    "from pathlib import Path\n",
    "from sklearn.impute import SimpleImputer\n",
    "from sklearn.model_selection import train_test_split\n",
    "from sklearn.ensemble import RandomForestClassifier, GradientBoostingClassifier\n",
    "from sklearn.metrics import accuracy_score\n",
    "from sklearn.inspection import permutation_importance\n",
    "from sklearn.multioutput import MultiOutputClassifier\n",
    "import matplotlib.pyplot as plt\n",
    "from sklearn.svm import SVC\n",
    "from sklearn.neighbors import KNeighborsClassifier\n",
    "from sklearn.tree import DecisionTreeClassifier"
   ]
  },
  {
   "cell_type": "code",
   "execution_count": 3,
   "metadata": {},
   "outputs": [],
   "source": [
    "# directory - only train for now\n",
    "train_dir = Path('train')\n",
    "\n",
    "# initialise list to store processed data\n",
    "processed_data = []\n",
    "\n",
    "# consider each file in train folder\n",
    "for folder in train_dir.iterdir():\n",
    "    if folder.is_dir():\n",
    "\n",
    "        # get data\n",
    "        data = pd.read_csv(folder / 'train_stage3.csv')\n",
    "        # append\n",
    "        processed_data.append(data)\n",
    "\n",
    "# concatenate all data   \n",
    "data = pd.concat(processed_data, ignore_index=True)\n",
    "\n",
    "# drop start and end columns and save as pandas dataframe\n",
    "processed_df = pd.DataFrame(data)\n",
    "processed_df.drop(columns=['start', 'end'], inplace=True)"
   ]
  },
  {
   "cell_type": "code",
   "execution_count": 4,
   "metadata": {},
   "outputs": [
    {
     "data": {
      "text/plain": [
       "\"\\nroom_mapping = {room: i+1 for i, room in enumerate(processed_df['room'].unique())}\\nprocessed_df['room'] = processed_df['room'].map(room_mapping)\""
      ]
     },
     "execution_count": 4,
     "metadata": {},
     "output_type": "execute_result"
    }
   ],
   "source": [
    "\"\"\"\n",
    "room_mapping = {room: i+1 for i, room in enumerate(processed_df['room'].unique())}\n",
    "processed_df['room'] = processed_df['room'].map(room_mapping)\"\"\""
   ]
  },
  {
   "cell_type": "code",
   "execution_count": 5,
   "metadata": {},
   "outputs": [
    {
     "data": {
      "text/plain": [
       "location_idx                0\n",
       "Kitchen_AP                  0\n",
       "Lounge_AP                   0\n",
       "Upstairs_AP                 0\n",
       "Study_AP                    0\n",
       "2d_movement_mean_x          0\n",
       "2d_movement_mean_y          0\n",
       "2d_movement_std_x           0\n",
       "2d_movement_std_y           0\n",
       "3d_movement_mean_x          0\n",
       "3d_movement_mean_y          0\n",
       "3d_movement_mean_z          0\n",
       "3d_movement_std_x           0\n",
       "3d_movement_std_y           0\n",
       "3d_movement_std_z           0\n",
       "2d_shape_mean_width         0\n",
       "2d_shape_mean_height        0\n",
       "2d_shape_std_width          0\n",
       "2d_shape_std_height         0\n",
       "3d_shape_mean_width         0\n",
       "3d_shape_mean_height        0\n",
       "3d_shape_std_width          0\n",
       "3d_shape_std_height         0\n",
       "x_mean                      0\n",
       "y_mean                      0\n",
       "z_mean                      0\n",
       "x_average_jerk              0\n",
       "x_average_absolute_value    0\n",
       "x_median                    0\n",
       "x_std_dev                   0\n",
       "x_max_value                 0\n",
       "x_min_value                 0\n",
       "x_max_absolute_value        0\n",
       "y_average_jerk              0\n",
       "y_average_absolute_value    0\n",
       "y_median                    0\n",
       "y_std_dev                   0\n",
       "y_max_value                 0\n",
       "y_min_value                 0\n",
       "y_max_absolute_value        0\n",
       "z_average_jerk              0\n",
       "z_average_absolute_value    0\n",
       "z_median                    0\n",
       "z_std_dev                   0\n",
       "z_max_value                 0\n",
       "z_min_value                 0\n",
       "z_max_absolute_value        0\n",
       "xy_corr                     0\n",
       "xz_corr                     0\n",
       "yz_corr                     0\n",
       "target_vector               0\n",
       "dtype: int64"
      ]
     },
     "execution_count": 5,
     "metadata": {},
     "output_type": "execute_result"
    }
   ],
   "source": [
    "processed_df.isna().sum() # no NaN is good\n"
   ]
  },
  {
   "cell_type": "code",
   "execution_count": 6,
   "metadata": {},
   "outputs": [
    {
     "name": "stdout",
     "output_type": "stream",
     "text": [
      "Accuracy: 0.5728\n"
     ]
    }
   ],
   "source": [
    "# prep X and Y from datset\n",
    "X = processed_df.drop('target_vector', axis=1)\n",
    "y = pd.DataFrame(processed_df['target_vector'].tolist())\n",
    "\n",
    "# split it as you wish\n",
    "X_train, X_test, y_train, y_test = train_test_split(X, y, test_size=0.3, random_state=42)\n",
    "\n",
    "# train # choose model\n",
    "clf = MultiOutputClassifier(RandomForestClassifier(n_estimators=100, random_state=42))\n",
    "#clf = SVC(kernel='linear', random_state=42)\n",
    "#clf = KNeighborsClassifier(n_neighbors=3)\n",
    "# clf = GradientBoostingClassifier(random_state=42)\n",
    "#clf = DecisionTreeClassifier(random_state=42)\n",
    "\n",
    "clf.fit(X_train, y_train)\n",
    "\n",
    "# predict\n",
    "y_pred = clf.predict(X_test)\n",
    "\n",
    "# print accuracy\n",
    "accuracy = accuracy_score(y_test, y_pred)\n",
    "print(f\"Accuracy: {accuracy:.4f}\")"
   ]
  },
  {
   "cell_type": "code",
   "execution_count": 6,
   "metadata": {},
   "outputs": [
    {
     "data": {
      "text/plain": [
       "\"\\n# Feature Engineering - method 1 - does not work with SVM\\n\\n# get feature importances - from built in command\\nimportances = clf.feature_importances_\\n\\n# convert the importances into a DataFrame\\nfeature_importance_df = pd.DataFrame({\\n    'Feature': X.columns,\\n    'Importance': importances\\n})\\n\\n# sort the DataFrame to find out the most important features\\nfeature_importance_df = feature_importance_df.sort_values(by='Importance', ascending=False)\\n\\n# plot\\nplt.figure(figsize=(10, 8))\\nplt.barh(feature_importance_df['Feature'], feature_importance_df['Importance'], color='skyblue')\\nplt.xlabel('Relative Importance')\\nplt.title('Feature Importances')\\nplt.gca().invert_yaxis() \\nplt.show()\\n\""
      ]
     },
     "execution_count": 6,
     "metadata": {},
     "output_type": "execute_result"
    }
   ],
   "source": [
    "\"\"\"\n",
    "# Feature Engineering - method 1 - does not work with SVM\n",
    "\n",
    "# get feature importances - from built in command\n",
    "importances = clf.feature_importances_\n",
    "\n",
    "# convert the importances into a DataFrame\n",
    "feature_importance_df = pd.DataFrame({\n",
    "    'Feature': X.columns,\n",
    "    'Importance': importances\n",
    "})\n",
    "\n",
    "# sort the DataFrame to find out the most important features\n",
    "feature_importance_df = feature_importance_df.sort_values(by='Importance', ascending=False)\n",
    "\n",
    "# plot\n",
    "plt.figure(figsize=(10, 8))\n",
    "plt.barh(feature_importance_df['Feature'], feature_importance_df['Importance'], color='skyblue')\n",
    "plt.xlabel('Relative Importance')\n",
    "plt.title('Feature Importances')\n",
    "plt.gca().invert_yaxis() \n",
    "plt.show()\n",
    "\"\"\""
   ]
  },
  {
   "cell_type": "code",
   "execution_count": 7,
   "metadata": {},
   "outputs": [
    {
     "name": "stderr",
     "output_type": "stream",
     "text": [
      "c:\\Users\\alejo\\miniconda3\\lib\\site-packages\\joblib\\externals\\loky\\process_executor.py:700: UserWarning: A worker stopped while some jobs were given to the executor. This can be caused by a too short worker timeout or by a memory leak.\n",
      "  warnings.warn(\n"
     ]
    }
   ],
   "source": [
    "# Feature Engineering - method 2\n",
    "\n",
    "\n",
    "# perform permutation importance\n",
    "results = permutation_importance(clf, X_test, y_test, n_repeats=5, random_state=42, n_jobs=-1)\n",
    "\n",
    "# convert the importances into a DataFrame\n",
    "feature_importance_df = pd.DataFrame({\n",
    "    'Feature': X.columns,\n",
    "    'Importance': results.importances_mean\n",
    "})\n",
    "\n",
    "# sort the DataFrame to find out the most important features\n",
    "feature_importance_df = feature_importance_df.sort_values(by='Importance', ascending=False)\n",
    "\n",
    "# plot\n",
    "plt.figure(figsize=(10, 8))\n",
    "plt.barh(feature_importance_df['Feature'], feature_importance_df['Importance'], color='skyblue')\n",
    "plt.xlabel('Relative Importance')\n",
    "plt.title('Feature Importances')\n",
    "plt.gca().invert_yaxis() \n",
    "plt.show()\n"
   ]
  }
 ],
 "metadata": {
  "kernelspec": {
   "display_name": "Python 3",
   "language": "python",
   "name": "python3"
  },
  "language_info": {
   "codemirror_mode": {
    "name": "ipython",
    "version": 3
   },
   "file_extension": ".py",
   "mimetype": "text/x-python",
   "name": "python",
   "nbconvert_exporter": "python",
   "pygments_lexer": "ipython3",
   "version": "3.10.9"
  }
 },
 "nbformat": 4,
 "nbformat_minor": 2
}
